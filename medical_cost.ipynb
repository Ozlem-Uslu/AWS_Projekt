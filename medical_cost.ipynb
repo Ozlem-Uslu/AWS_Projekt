{
 "cells": [
  {
   "cell_type": "code",
   "execution_count": 8,
   "id": "cc574cf6-6e0e-4910-b08a-08d6328db4c8",
   "metadata": {
    "tags": []
   },
   "outputs": [],
   "source": [
    "import sys\n",
    "import joblib\n",
    "import pandas as pd\n",
    "import numpy as np\n",
    "import boto3\n",
    "\n",
    "\n",
    "from sklearn.preprocessing import StandardScaler\n",
    "from sklearn.preprocessing import LabelEncoder\n",
    "from sklearn.preprocessing import OneHotEncoder\n",
    "from sklearn.decomposition import PCA\n",
    "from sklearn.cluster import KMeans\n",
    "\n",
    "from sklearn.ensemble import  GradientBoostingRegressor\n",
    "from sklearn.metrics import mean_squared_error, r2_score\n",
    "from sklearn.model_selection import train_test_split, cross_val_score,GridSearchCV\n",
    "\n",
    "import warnings\n",
    "warnings.simplefilter(action='ignore', category=FutureWarning)\n",
    "warnings.filterwarnings(action='ignore', category=FutureWarning)\n",
    "\n",
    "pd.set_option('display.max_columns', None)\n",
    "pd.set_option('display.max_rows', None)\n",
    "pd.set_option('display.width', None)\n",
    "pd.set_option('display.float_format', lambda x: '%.3f' % x)"
   ]
  },
  {
   "cell_type": "code",
   "execution_count": 5,
   "id": "e408f1f6-c611-4d20-9a0f-f898acd198f8",
   "metadata": {
    "tags": []
   },
   "outputs": [
    {
     "name": "stdout",
     "output_type": "stream",
     "text": [
      "3.10.14 | packaged by conda-forge | (main, Mar 20 2024, 12:45:18) [GCC 12.3.0]\n"
     ]
    }
   ],
   "source": [
    "print(sys.version)"
   ]
  },
  {
   "cell_type": "code",
   "execution_count": 6,
   "id": "7ea94005-18be-4c8e-b4dc-0a32cf94f8ce",
   "metadata": {
    "tags": []
   },
   "outputs": [
    {
     "name": "stdout",
     "output_type": "stream",
     "text": [
      "/home/ec2-user/anaconda3/envs/python3/bin/python\n"
     ]
    }
   ],
   "source": [
    "print(sys.executable)"
   ]
  },
  {
   "cell_type": "code",
   "execution_count": 10,
   "id": "df4d3a9d-9ed0-4924-aaa0-89b1df1c995f",
   "metadata": {
    "tags": []
   },
   "outputs": [],
   "source": [
    "\n",
    "s3_bucket = \"sonbucket21\"\n",
    "\n",
    "\n",
    "def upload_to_s3(localpath, remotepath):\n",
    "    boto3.client(\"s3\").upload_file(Filename=localpath, Bucket=s3_bucket, Key=remotepath)\n",
    "\n",
    "\n",
    "def download_from_s3(localpath, remotepath):\n",
    "    boto3.client(\"s3\").download_file(s3_bucket, remotepath, localpath)"
   ]
  },
  {
   "cell_type": "code",
   "execution_count": 14,
   "id": "bc04c257-f61a-49b9-87f6-271ad8c1a4c9",
   "metadata": {
    "tags": []
   },
   "outputs": [],
   "source": [
    "download_from_s3(\"insurance.csv\", \"insurance.csv\")"
   ]
  },
  {
   "cell_type": "code",
   "execution_count": 15,
   "id": "b1ef6e77-04b7-4824-8630-22c5dee1a276",
   "metadata": {
    "tags": []
   },
   "outputs": [],
   "source": [
    "df = pd.read_csv(\"insurance.csv\")"
   ]
  },
  {
   "cell_type": "code",
   "execution_count": 16,
   "id": "2283e890-7c79-4ff8-81b6-07224fbbd62e",
   "metadata": {
    "tags": []
   },
   "outputs": [
    {
     "data": {
      "text/html": [
       "<div>\n",
       "<style scoped>\n",
       "    .dataframe tbody tr th:only-of-type {\n",
       "        vertical-align: middle;\n",
       "    }\n",
       "\n",
       "    .dataframe tbody tr th {\n",
       "        vertical-align: top;\n",
       "    }\n",
       "\n",
       "    .dataframe thead th {\n",
       "        text-align: right;\n",
       "    }\n",
       "</style>\n",
       "<table border=\"1\" class=\"dataframe\">\n",
       "  <thead>\n",
       "    <tr style=\"text-align: right;\">\n",
       "      <th></th>\n",
       "      <th>age</th>\n",
       "      <th>sex</th>\n",
       "      <th>bmi</th>\n",
       "      <th>children</th>\n",
       "      <th>smoker</th>\n",
       "      <th>region</th>\n",
       "      <th>charges</th>\n",
       "    </tr>\n",
       "  </thead>\n",
       "  <tbody>\n",
       "    <tr>\n",
       "      <th>0</th>\n",
       "      <td>19</td>\n",
       "      <td>female</td>\n",
       "      <td>27.900</td>\n",
       "      <td>0</td>\n",
       "      <td>yes</td>\n",
       "      <td>southwest</td>\n",
       "      <td>16884.924</td>\n",
       "    </tr>\n",
       "    <tr>\n",
       "      <th>1</th>\n",
       "      <td>18</td>\n",
       "      <td>male</td>\n",
       "      <td>33.770</td>\n",
       "      <td>1</td>\n",
       "      <td>no</td>\n",
       "      <td>southeast</td>\n",
       "      <td>1725.552</td>\n",
       "    </tr>\n",
       "    <tr>\n",
       "      <th>2</th>\n",
       "      <td>28</td>\n",
       "      <td>male</td>\n",
       "      <td>33.000</td>\n",
       "      <td>3</td>\n",
       "      <td>no</td>\n",
       "      <td>southeast</td>\n",
       "      <td>4449.462</td>\n",
       "    </tr>\n",
       "    <tr>\n",
       "      <th>3</th>\n",
       "      <td>33</td>\n",
       "      <td>male</td>\n",
       "      <td>22.705</td>\n",
       "      <td>0</td>\n",
       "      <td>no</td>\n",
       "      <td>northwest</td>\n",
       "      <td>21984.471</td>\n",
       "    </tr>\n",
       "    <tr>\n",
       "      <th>4</th>\n",
       "      <td>32</td>\n",
       "      <td>male</td>\n",
       "      <td>28.880</td>\n",
       "      <td>0</td>\n",
       "      <td>no</td>\n",
       "      <td>northwest</td>\n",
       "      <td>3866.855</td>\n",
       "    </tr>\n",
       "  </tbody>\n",
       "</table>\n",
       "</div>"
      ],
      "text/plain": [
       "   age     sex    bmi  children smoker     region   charges\n",
       "0   19  female 27.900         0    yes  southwest 16884.924\n",
       "1   18    male 33.770         1     no  southeast  1725.552\n",
       "2   28    male 33.000         3     no  southeast  4449.462\n",
       "3   33    male 22.705         0     no  northwest 21984.471\n",
       "4   32    male 28.880         0     no  northwest  3866.855"
      ]
     },
     "execution_count": 16,
     "metadata": {},
     "output_type": "execute_result"
    }
   ],
   "source": [
    "df.head()"
   ]
  },
  {
   "cell_type": "code",
   "execution_count": 17,
   "id": "85ae3ab9-4ab5-4114-a41f-e04232ff8be3",
   "metadata": {
    "tags": []
   },
   "outputs": [],
   "source": [
    "df.duplicated().sum()\n",
    "duplicate_rows_data = df[df.duplicated()]\n",
    "df = df.drop_duplicates()\n",
    "\n",
    "df = df.reset_index(drop=True)"
   ]
  },
  {
   "cell_type": "code",
   "execution_count": 18,
   "id": "73169941-6cf7-4bd3-89b0-a1405a2f09b6",
   "metadata": {
    "tags": []
   },
   "outputs": [
    {
     "name": "stdout",
     "output_type": "stream",
     "text": [
      "Observations: 1337\n",
      "Variables: 7\n",
      "cat_cols: 4\n",
      "num_cols: 3\n",
      "cat_but_car: 0\n",
      "num_but_cat: 1\n"
     ]
    }
   ],
   "source": [
    "\n",
    "def grab_col_names(dataframe, cat_th=10, car_th=20):\n",
    "\n",
    "    # cat_cols, cat_but_car\n",
    "    cat_cols = [col for col in dataframe.columns if dataframe[col].dtypes == \"O\"]\n",
    "    num_but_cat = [col for col in dataframe.columns if dataframe[col].nunique() < cat_th and dataframe[col].dtypes != \"O\"]\n",
    "    cat_but_car = [col for col in dataframe.columns if dataframe[col].nunique() > car_th and dataframe[col].dtypes == \"O\"]\n",
    "    cat_cols = cat_cols + num_but_cat\n",
    "    cat_cols = [col for col in cat_cols if col not in cat_but_car]\n",
    "\n",
    "    # num_cols\n",
    "    num_cols = [col for col in dataframe.columns if dataframe[col].dtypes != \"O\"]\n",
    "    num_cols = [col for col in num_cols if col not in num_but_cat]\n",
    "\n",
    "    print(f\"Observations: {dataframe.shape[0]}\")\n",
    "    print(f\"Variables: {dataframe.shape[1]}\")\n",
    "    print(f'cat_cols: {len(cat_cols)}')\n",
    "    print(f'num_cols: {len(num_cols)}')\n",
    "    print(f'cat_but_car: {len(cat_but_car)}')\n",
    "    print(f'num_but_cat: {len(num_but_cat)}')\n",
    "\n",
    "    return cat_cols, num_cols, cat_but_car\n",
    "cat_cols, num_cols, cat_but_car = grab_col_names(df)"
   ]
  },
  {
   "cell_type": "code",
   "execution_count": 20,
   "id": "d7dba12d-bac8-43fb-b7d0-94b3b4d0fab1",
   "metadata": {
    "tags": []
   },
   "outputs": [],
   "source": [
    "\n",
    "def label_encoder(dataframe, binary_col):\n",
    "    labelencoder = LabelEncoder()\n",
    "    dataframe[binary_col] = labelencoder.fit_transform(dataframe[binary_col])\n",
    "    return dataframe\n",
    "\n",
    "binary_cols = [col for col in df.columns if df[col].dtypes == \"O\" ]\n",
    "\n",
    "for col in binary_cols:\n",
    "    label_encoder(df, col)"
   ]
  },
  {
   "cell_type": "code",
   "execution_count": 21,
   "id": "828982f8-fc13-4b23-ac5a-1527791484b4",
   "metadata": {
    "tags": []
   },
   "outputs": [
    {
     "data": {
      "text/plain": [
       "region     -0.007\n",
       "sex         0.058\n",
       "children    0.067\n",
       "bmi         0.198\n",
       "age         0.298\n",
       "smoker      0.787\n",
       "charges     1.000\n",
       "Name: charges, dtype: float64"
      ]
     },
     "execution_count": 21,
     "metadata": {},
     "output_type": "execute_result"
    }
   ],
   "source": [
    "df.corr()['charges'].sort_values()\n"
   ]
  },
  {
   "cell_type": "code",
   "execution_count": 22,
   "id": "f7cca0e1-ee37-4fd4-9b9f-8c3ccd91a378",
   "metadata": {
    "tags": []
   },
   "outputs": [],
   "source": [
    "def label_encoder(dataframe, binary_col):\n",
    "    labelencoder = LabelEncoder()\n",
    "    dataframe[binary_col] = labelencoder.fit_transform(dataframe[binary_col])\n",
    "    return dataframe\n",
    "\n",
    "\n",
    "binary_cols = [col for col in df.columns if df[col].dtypes == \"O\" and len(df[col].unique()) == 2]\n",
    "cat_columns = [col for col in df.columns if df[col].dtypes == \"O\" and len(df[col].unique()) == 4]\n",
    "for col in binary_cols:\n",
    "    label_encoder(df, col)\n",
    "for col in cat_columns:\n",
    "    label_encoder(df, col)\n"
   ]
  },
  {
   "cell_type": "code",
   "execution_count": 23,
   "id": "3a1e26c2-c559-4654-bb47-363428088519",
   "metadata": {
    "tags": []
   },
   "outputs": [
    {
     "name": "stdout",
     "output_type": "stream",
     "text": [
      "Observations: 1337\n",
      "Variables: 7\n",
      "cat_cols: 4\n",
      "num_cols: 3\n",
      "cat_but_car: 0\n",
      "num_but_cat: 4\n"
     ]
    }
   ],
   "source": [
    "cat_cols, num_cols, cat_but_car, = grab_col_names(df)\n",
    "\n",
    "num_cols = [col for col in num_cols if \"charges\" not in col]\n",
    "scaler = StandardScaler()\n",
    "df[num_cols] = scaler.fit_transform(df[num_cols])\n"
   ]
  },
  {
   "cell_type": "code",
   "execution_count": 24,
   "id": "22bb1da4-dbf3-4871-a4e7-371318716d58",
   "metadata": {
    "tags": []
   },
   "outputs": [],
   "source": [
    "y = df[\"charges\"]\n",
    "X = df.drop([\"charges\",\"region\"], axis=1)\n",
    "\n",
    "y = np.log1p(df['charges'])\n",
    "X = df.drop([\"charges\"], axis=1)\n"
   ]
  },
  {
   "cell_type": "code",
   "execution_count": 25,
   "id": "7f7ae524-5893-4e7b-beb2-9a8effc98ed4",
   "metadata": {
    "tags": []
   },
   "outputs": [
    {
     "name": "stdout",
     "output_type": "stream",
     "text": [
      "(1069, 6) (268, 6) (1069,) (268,)\n"
     ]
    }
   ],
   "source": [
    "X_train, X_test, y_train, y_test = train_test_split(X, y, test_size=0.20, random_state=17)\n",
    "print(X_train.shape, X_test.shape, y_train.shape, y_test.shape)"
   ]
  },
  {
   "cell_type": "code",
   "execution_count": 26,
   "id": "c820209b-c023-4c55-bd8f-f0cbdcc4fe90",
   "metadata": {
    "tags": []
   },
   "outputs": [],
   "source": [
    "gbm_model = GradientBoostingRegressor(random_state=42).fit(X_train, y_train)\n",
    "y_pred = gbm_model.predict(X_test) #Zuerst kehren wir den Logarithmus des y-Werts um\n",
    "y_pred = np.expm1(y_pred)\n",
    "y_test = np.expm1(y_test)\n",
    "y_train=np.expm1(y_train)\n",
    "y = np.expm1(y)\n"
   ]
  },
  {
   "cell_type": "code",
   "execution_count": 27,
   "id": "ddfa7b95-5eca-4e35-bc9a-929b74d9b06f",
   "metadata": {
    "tags": []
   },
   "outputs": [],
   "source": [
    "rmse = np.mean(np.sqrt(-cross_val_score(gbm_model, X, y, cv=10, scoring=\"neg_mean_squared_error\")))"
   ]
  },
  {
   "cell_type": "code",
   "execution_count": 28,
   "id": "1048dd92-a121-41b8-98da-42ce12d78799",
   "metadata": {
    "tags": []
   },
   "outputs": [],
   "source": [
    "gbm_model.get_params()\n",
    "param_grid = {\n",
    "    'n_estimators': [ 500],\n",
    "    'learning_rate': [0.01],\n",
    "    'max_depth': [3]\n",
    "}\n",
    "gbm_gs_best = GridSearchCV(gbm_model,\n",
    "                            param_grid,\n",
    "                            cv=10,\n",
    "                            n_jobs=-1,\n",
    "                            verbose=0).fit(X_train, y_train)"
   ]
  },
  {
   "cell_type": "code",
   "execution_count": 29,
   "id": "21e43722-1132-426d-9d2b-0c8584e755f4",
   "metadata": {
    "tags": []
   },
   "outputs": [],
   "source": [
    "final_model = gbm_model.set_params(**gbm_gs_best.best_params_).fit(X, y)\n",
    "rmse = np.mean(np.sqrt(-cross_val_score(final_model, X, y, cv=5, scoring=\"neg_mean_squared_error\")))"
   ]
  },
  {
   "cell_type": "code",
   "execution_count": 30,
   "id": "bbf53bf6-0118-4e9b-94cb-7f1fcab8ad8e",
   "metadata": {
    "tags": []
   },
   "outputs": [
    {
     "data": {
      "text/plain": [
       "0.8854443711318675"
      ]
     },
     "execution_count": 30,
     "metadata": {},
     "output_type": "execute_result"
    }
   ],
   "source": [
    "\n",
    "y_pred_tr = final_model.predict(X_train)\n",
    "r2_score(y_train,y_pred_tr)\n",
    "\n"
   ]
  },
  {
   "cell_type": "code",
   "execution_count": 31,
   "id": "b4ceb833-1512-4243-a3cc-95cf3bf5b2e3",
   "metadata": {
    "tags": []
   },
   "outputs": [
    {
     "data": {
      "text/plain": [
       "0.8805095341867151"
      ]
     },
     "execution_count": 31,
     "metadata": {},
     "output_type": "execute_result"
    }
   ],
   "source": [
    "y_pred_tx=final_model.predict(X_test)\n",
    "r2_score(y_test,y_pred_tx)"
   ]
  },
  {
   "cell_type": "code",
   "execution_count": 32,
   "id": "7f10de9d-73c9-454d-a7bc-f780ac9a3b1b",
   "metadata": {
    "tags": []
   },
   "outputs": [
    {
     "data": {
      "text/plain": [
       "['./model.pkl']"
      ]
     },
     "execution_count": 32,
     "metadata": {},
     "output_type": "execute_result"
    }
   ],
   "source": [
    "joblib.dump(final_model, './model.pkl')\n"
   ]
  },
  {
   "cell_type": "code",
   "execution_count": 33,
   "id": "7d1a1bab-c753-431f-8b8f-1cf2e0f6d947",
   "metadata": {
    "tags": []
   },
   "outputs": [],
   "source": [
    "upload_to_s3( 'model.pkl', 'medical_model.pkl')"
   ]
  },
  {
   "cell_type": "code",
   "execution_count": null,
   "id": "c9847aad-f47a-47aa-9484-24e4e1ce2ef5",
   "metadata": {},
   "outputs": [],
   "source": []
  }
 ],
 "metadata": {
  "kernelspec": {
   "display_name": "conda_python3",
   "language": "python",
   "name": "conda_python3"
  },
  "language_info": {
   "codemirror_mode": {
    "name": "ipython",
    "version": 3
   },
   "file_extension": ".py",
   "mimetype": "text/x-python",
   "name": "python",
   "nbconvert_exporter": "python",
   "pygments_lexer": "ipython3",
   "version": "3.10.14"
  }
 },
 "nbformat": 4,
 "nbformat_minor": 5
}
